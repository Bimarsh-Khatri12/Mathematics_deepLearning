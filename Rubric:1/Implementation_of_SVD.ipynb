{
 "cells": [
  {
   "cell_type": "markdown",
   "id": "149a05d0-ac3b-40ea-9f0a-5766a3d67600",
   "metadata": {},
   "source": [
    "## Implementation of SVD\n",
    "\n",
    "Singular-Value decomposition is the also one of the popular dimensionaloty reduction techniques and is also written as SVD.\n",
    "It is the matrix- factorization method of linear algebra, and it is widelt used in different applications such as feature selection, visualization, noise reduction, and many more"
   ]
  },
  {
   "cell_type": "code",
   "execution_count": 4,
   "id": "53198f24-ed2c-49d4-bfbc-2bd5022957ae",
   "metadata": {},
   "outputs": [
    {
     "name": "stdout",
     "output_type": "stream",
     "text": [
      "Requirement already satisfied: numpy in c:\\users\\bimarsh\\anaconda3\\lib\\site-packages (1.26.4)\n"
     ]
    }
   ],
   "source": [
    "!pip install numpy"
   ]
  },
  {
   "cell_type": "code",
   "execution_count": 23,
   "id": "94e06970-04f4-4c80-a016-fc7d95b1ac92",
   "metadata": {},
   "outputs": [],
   "source": [
    "import numpy as np\n",
    "from numpy.linalg import eigh, norm"
   ]
  },
  {
   "cell_type": "code",
   "execution_count": 25,
   "id": "b49b6984-9018-4fa4-b944-e460d85735e2",
   "metadata": {},
   "outputs": [],
   "source": [
    "# Sample data\n",
    "A = np.array([[-5, 2, 3],\n",
    "              [2, 5, 1],\n",
    "              [3, 1, -5]])"
   ]
  },
  {
   "cell_type": "markdown",
   "id": "979d6ea3-228b-43ab-8b95-cb98b9f9bd1b",
   "metadata": {},
   "source": [
    "## Computational of matrix transpose and matrix multiplication\n",
    "In Numpy, $ A^{T}A $ defines the matrix multiplication of the transpose of $A$ with $A$ which can be computed using the @ operator or to simplify things np.dot can also be used.\n",
    "Here is the breakdown of the above sample data.\n",
    "The given matrix above is $(3 X 3)$ matrix, transposing it doesn't change the order of the matrix.\n",
    "\n",
    "\n",
    "**Multiply $A^{T}$ by $A$:** This is done by simply performing matrix multiplication, which involves taking dot product of the rows of $A^{T}$ with the columns of $A$.\n",
    "The final result behind the codes is illustrated below:\n",
    "$$\n",
    "A^{T} @ A =\n",
    "\\left[\n",
    "\\begin{matrix}\n",
    "(-5.-5 + 2.2 + 3.3) & (-5.2 + 2.5 + 3.1) & (-5.3 + 2.1 + 3.-5)\\\\\n",
    "(2.-5 + 5.2 + 1.3) & (2.2 + 5.5 + 1.1) & (2.3 + 5.1 + 1.-5)\\\\\n",
    "(3.-5 + 1.2 + -5.3) & (3.2 + 1.5 + -5.1) & (3.3 + 1.1 + -5.-5)\n",
    "\\end{matrix}\n",
    "\\right]$$\n"
   ]
  },
  {
   "cell_type": "code",
   "execution_count": 45,
   "id": "a8591c37-5f12-475a-b7b5-bef767f3be42",
   "metadata": {},
   "outputs": [
    {
     "data": {
      "text/plain": [
       "array([[ 38,   3, -28],\n",
       "       [  3,  30,   6],\n",
       "       [-28,   6,  35]])"
      ]
     },
     "execution_count": 45,
     "metadata": {},
     "output_type": "execute_result"
    }
   ],
   "source": [
    "A.T@A"
   ]
  },
  {
   "cell_type": "markdown",
   "id": "89787e7f-5db1-4726-b657-f2034ad6a00a",
   "metadata": {},
   "source": [
    "## Finding Eigenvalues and Eigenvectors\n",
    "To find the eigenvalues and eigenvectors of $A^{T}$, we need to solve the equation:\n",
    "                             $A^{T} A v = λ v$\n",
    "This can also be represented as:\n",
    "                             $(A^{T} A - λI) v = 0  $\n",
    "                             \n",
    "Let's us take a look at Numerical solution:\n",
    "\n",
    "**1. Construct of the matrix $A^{T}$.**\n",
    "\n",
    "**2. Solve the characteristic equation $ det(A^{T} A - λI) = 0 $ to find the eigenvalues λ.**\n",
    "\n",
    "**3. Find the eigenvectors by substituting the eigenvalues into the equation $A^{T} Av = λv.**\n",
    "\n",
    "**Simple walkthrough example:**\n",
    "From the above matrix data after $A.T@A$ has been performed the result obtained is:\n",
    "          $$\n",
    "A^{T} A =\n",
    "\\left(\n",
    "\\begin{matrix}\n",
    "38 & 3 & -28\\\\\n",
    "3 & 30 & 6\\\\\n",
    "-28 & 6 & 35\n",
    "\\end{matrix}\n",
    "\\right)$$\n",
    "We need to solve for the eigenvalues **λ** and eigenvectors **v** of this matrix.\n",
    "The equation is given by        $det(A^{T} A - λI) = 0 $\n",
    "we get \n",
    "\n",
    "$$\n",
    "\\begin{bmatrix}\n",
    "38 & 3 & -28 \\\\ \n",
    "3 & 30 & 6 \\\\\n",
    "-28 & 6 & 35\n",
    "\\end{bmatrix}\n",
    "-\\lambda\n",
    "\\begin{bmatrix}\n",
    "1 & 0 & 0 \\\\\n",
    "0 & 1 & 0 \\\\\n",
    "0 & 0 & 1\n",
    "\\end{bmatrix}\n",
    "=\n",
    "\\begin{bmatrix}\n",
    "0\n",
    "\\end{bmatrix}\n",
    "$$\n",
    "\n",
    "\n",
    "this becomes:\n",
    "$$\n",
    "\\begin{bmatrix}\n",
    "38 - \\lambda & 3 & -28 \\\\\n",
    "3 & 30 - \\lambda & 6 \\\\\n",
    "-28 & 6 & 35 - \\lambda\n",
    "\\end{bmatrix}\n",
    "= 0\n",
    "$$\n",
    "\n",
    "**Solve for λ**\n",
    "\n",
    "This determinant leads to a cubic equation in **λ**, and solving it gives the eigenvalues.\n",
    "\n",
    "**Find the eigenvectors**\n",
    "After the eigenvalues are obtained, substitute each one into $A^{T} Av = λv$ to find the corresponding eigenvectors"
   ]
  },
  {
   "cell_type": "code",
   "execution_count": 51,
   "id": "35495e96-9e86-4339-81a6-1d5f73dabf00",
   "metadata": {},
   "outputs": [
    {
     "data": {
      "text/plain": [
       "EighResult(eigenvalues=array([ 6.68769919, 31.66001395, 64.65228686]), eigenvectors=array([[-0.65658382,  0.22455403, -0.72005082],\n",
       "       [ 0.26613407,  0.96222538,  0.05740187],\n",
       "       [-0.70574099,  0.15394091,  0.69154309]]))"
      ]
     },
     "execution_count": 51,
     "metadata": {},
     "output_type": "execute_result"
    }
   ],
   "source": [
    "# Getting eigenvalues and eigenvectors\n",
    "eigh(A.T@A)"
   ]
  },
  {
   "cell_type": "code",
   "execution_count": 79,
   "id": "f8ed6939-6d5b-496f-ab1f-833d8ad33ea2",
   "metadata": {},
   "outputs": [],
   "source": [
    "# Assigning eigenvalues and eigenvectors\n",
    "ev, V = eigh(A.T@A)"
   ]
  },
  {
   "cell_type": "code",
   "execution_count": 87,
   "id": "a0eaf2d4-1cb4-4f60-91cf-a57b76db1829",
   "metadata": {},
   "outputs": [
    {
     "data": {
      "text/plain": [
       "array([[-0.65658382,  0.22455403, -0.72005082],\n",
       "       [ 0.26613407,  0.96222538,  0.05740187],\n",
       "       [-0.70574099,  0.15394091,  0.69154309]])"
      ]
     },
     "execution_count": 87,
     "metadata": {},
     "output_type": "execute_result"
    }
   ],
   "source": [
    "V"
   ]
  },
  {
   "cell_type": "code",
   "execution_count": 83,
   "id": "61efaee8-4ccf-48b4-b705-613966002671",
   "metadata": {},
   "outputs": [
    {
     "data": {
      "text/plain": [
       "array([-0.65658382,  0.22455403, -0.72005082])"
      ]
     },
     "execution_count": 83,
     "metadata": {},
     "output_type": "execute_result"
    }
   ],
   "source": [
    "V[0]"
   ]
  },
  {
   "cell_type": "code",
   "execution_count": 89,
   "id": "8498ae35-0beb-418c-85a0-7c15f706464d",
   "metadata": {},
   "outputs": [
    {
     "data": {
      "text/plain": [
       "array([-0.65658382,  0.26613407, -0.70574099])"
      ]
     },
     "execution_count": 89,
     "metadata": {},
     "output_type": "execute_result"
    }
   ],
   "source": [
    "V[:,0]"
   ]
  },
  {
   "cell_type": "markdown",
   "id": "0baff47e-0c59-4cef-b6ff-d46e095c81a2",
   "metadata": {},
   "source": [
    "## Mathematical breakdown of matrix-vector multiplication and normalization steps\n",
    "\n",
    "$A @ V[:,i] $ represents the multiplication of matrix A with the i^{th} column of matrix **V**\n",
    "$A @ V[:,0] $ represents the multiplication of matrix A with the first column of matrix **V**\n",
    "Similarly, \n",
    "$A @ V[:,1] and A @ V[:,2]$ represents the muliplication of matrix A with second and third column matrix\n",
    "\n",
    "**Normalization**\n",
    "- After performing the matrix-vector multiplication, the result is a new vector, but it may not be a unit vector( not having a magnitude of 1).\n",
    "- The normalization step ensures that each vector $\\mathbf{u}_0$, $\\mathbf{u}_1$, and $\\mathbf{u}_2$ has a unit length. This is done by dividing the vector by its norm(magnitude).\n",
    "\n",
    "  The vector normalization is given by equation:\n",
    "   $$|\\mathbf{v}| = \\sqrt{v_1^2 + v_2^2 + \\ldots + v_n^2}$$\n",
    "  where each normalization is resultant vector done by dividing each element of the vector by its norm\n",
    "  i.e\n",
    "  $$u_0 = \\frac{A \\cdot V_1}{|A \\cdot V_1|}$$\n",
    "\n",
    "**The main reason to normalize is to ensure that all are unit vectors i.e their magnitude is 1. This can be useful in many application like Principal Component analysis(PCA), Singular value Decomposition(SVD) and many more.**"
   ]
  },
  {
   "cell_type": "code",
   "execution_count": 91,
   "id": "dc7a5162-eea3-42f8-baa0-eb5a5f857d1e",
   "metadata": {},
   "outputs": [],
   "source": [
    "u0 = A@V[:,0]/norm(A@V[:,0])\n",
    "u1 = A@V[:,1]/norm(A@V[:,1])\n",
    "u2 = A@V[:,2]/norm(A@V[:,2])"
   ]
  },
  {
   "cell_type": "code",
   "execution_count": 93,
   "id": "06465e2c-64e8-4f98-86b4-bd41cffc595a",
   "metadata": {},
   "outputs": [],
   "source": [
    "#Creating a matrix by arranging vectors u0,u1,u2 as rows and Transposing it\n",
    "U = np.array([u0,u1,u2]).T"
   ]
  },
  {
   "cell_type": "markdown",
   "id": "a86279e0-c809-4062-93c6-9385f01f725f",
   "metadata": {},
   "source": [
    "## Breakdown of experession U.T@A@V\n",
    " The operation $U.T@A@V$ performs a sequence of two matrix multiplicatiom. The first multiplies the transpose of **U** with **A**, and the second multiplies the result with **V**."
   ]
  },
  {
   "cell_type": "code",
   "execution_count": 98,
   "id": "89c6cfbb-02d4-4953-beb9-548c3e009dde",
   "metadata": {},
   "outputs": [
    {
     "data": {
      "text/plain": [
       "array([[ 2.58606, -0.     ,  0.     ],\n",
       "       [-0.     ,  5.62672,  0.     ],\n",
       "       [-0.     ,  0.     ,  8.04066]])"
      ]
     },
     "execution_count": 98,
     "metadata": {},
     "output_type": "execute_result"
    }
   ],
   "source": [
    "np.round(U.T@A@V, decimals = 5)"
   ]
  },
  {
   "cell_type": "code",
   "execution_count": 100,
   "id": "c39a3bfb-afa3-4666-907b-d9b5c914f81e",
   "metadata": {},
   "outputs": [
    {
     "data": {
      "text/plain": [
       "array([[ 0.65658382,  0.22455403,  0.72005082],\n",
       "       [-0.26613407,  0.96222538, -0.05740187],\n",
       "       [ 0.70574099,  0.15394091, -0.69154309]])"
      ]
     },
     "execution_count": 100,
     "metadata": {},
     "output_type": "execute_result"
    }
   ],
   "source": [
    "U"
   ]
  },
  {
   "cell_type": "code",
   "execution_count": null,
   "id": "9ef20964-8ffc-4e8d-a174-ce4154588907",
   "metadata": {},
   "outputs": [],
   "source": [
    "# A = U@D@V.T is the SVD"
   ]
  }
 ],
 "metadata": {
  "kernelspec": {
   "display_name": "Python 3 (ipykernel)",
   "language": "python",
   "name": "python3"
  },
  "language_info": {
   "codemirror_mode": {
    "name": "ipython",
    "version": 3
   },
   "file_extension": ".py",
   "mimetype": "text/x-python",
   "name": "python",
   "nbconvert_exporter": "python",
   "pygments_lexer": "ipython3",
   "version": "3.11.7"
  }
 },
 "nbformat": 4,
 "nbformat_minor": 5
}
