{
 "cells": [
  {
   "cell_type": "markdown",
   "id": "05f4d66b-370e-4d2f-99f7-d7a799e351b7",
   "metadata": {},
   "source": [
    "## A simple implementation of SVD  for image compression"
   ]
  },
  {
   "cell_type": "code",
   "execution_count": 6,
   "id": "881674a4-f49f-4ebc-b785-acfee498c757",
   "metadata": {},
   "outputs": [
    {
     "name": "stdout",
     "output_type": "stream",
     "text": [
      "Requirement already satisfied: numpy in c:\\users\\bimarsh\\anaconda3\\lib\\site-packages (1.26.4)\n"
     ]
    },
    {
     "name": "stderr",
     "output_type": "stream",
     "text": [
      "ERROR: Could not find a version that satisfies the requirement as (from versions: none)\n",
      "ERROR: No matching distribution found for as\n"
     ]
    },
    {
     "name": "stdout",
     "output_type": "stream",
     "text": [
      "Requirement already satisfied: pillow in c:\\users\\bimarsh\\anaconda3\\lib\\site-packages (10.2.0)\n"
     ]
    }
   ],
   "source": [
    "!pip install numpy as np\n",
    "!pip install pillow"
   ]
  },
  {
   "cell_type": "code",
   "execution_count": 8,
   "id": "000a37fe-5c87-4684-99f8-7ff98afa8500",
   "metadata": {},
   "outputs": [],
   "source": [
    "import numpy as np\n",
    "from PIL import Image"
   ]
  },
  {
   "cell_type": "code",
   "execution_count": 12,
   "id": "bc67eaf5-58e9-4a3a-9277-d44f7d123be2",
   "metadata": {},
   "outputs": [],
   "source": [
    "img = Image.open(\"cat.jpg\")\n",
    "# Convert image into array using numpy\n",
    "img_array = np.array(img)"
   ]
  },
  {
   "cell_type": "code",
   "execution_count": 32,
   "id": "e65498ff-8e8b-4516-9603-4f4e156599c5",
   "metadata": {},
   "outputs": [],
   "source": [
    "if img_array.ndim == 3:  # RGB image\n",
    "    channels = [img_array[:, :, i] for i in range(3)]\n",
    "else:  # Grayscale image\n",
    "    channels = [img_array]"
   ]
  },
  {
   "cell_type": "code",
   "execution_count": 34,
   "id": "6cefa878-1194-4856-bcef-0ce0b29c7c28",
   "metadata": {},
   "outputs": [],
   "source": [
    "# Performing SVD on image matrix\n",
    "U, s, V = np.linalg.svd(img_array, full_matrices=False)"
   ]
  },
  {
   "cell_type": "code",
   "execution_count": 40,
   "id": "073b9220-d273-4165-9190-d0cd3d20aab6",
   "metadata": {},
   "outputs": [],
   "source": [
    "# Compress the image by keeping only the k largest singular values\n",
    "k = 100\n",
    "compressed_channels = []\n",
    "for channel in channels:\n",
    "    U, s, Vt = np.linalg.svd(channel, full_matrices=False)\n",
    "    \n",
    "    # Keep only the top k singular values\n",
    "    compressed_channel = np.dot(U[:, :k], np.dot(np.diag(s[:k]), Vt[:k, :]))\n",
    "    compressed_channel = np.clip(compressed_channel, 0, 255).astype(np.uint8)\n",
    "    compressed_channels.append(compressed_channel)\n",
    "\n",
    "if len(compressed_channels) == 3:\n",
    "    compressed_img = np.stack(compressed_channels, axis=2)\n",
    "else:\n",
    "    compressed_img = compressed_channels\n",
    "# save the compressed image\n",
    "compressed_img = Image.fromarray(compressed_img)\n",
    "compressed_img.save(\"Compressed_image.jpg\")"
   ]
  },
  {
   "cell_type": "code",
   "execution_count": null,
   "id": "97b343d0-78ed-46a1-921f-449cd31f4b89",
   "metadata": {},
   "outputs": [],
   "source": []
  }
 ],
 "metadata": {
  "kernelspec": {
   "display_name": "Python 3 (ipykernel)",
   "language": "python",
   "name": "python3"
  },
  "language_info": {
   "codemirror_mode": {
    "name": "ipython",
    "version": 3
   },
   "file_extension": ".py",
   "mimetype": "text/x-python",
   "name": "python",
   "nbconvert_exporter": "python",
   "pygments_lexer": "ipython3",
   "version": "3.11.7"
  }
 },
 "nbformat": 4,
 "nbformat_minor": 5
}
